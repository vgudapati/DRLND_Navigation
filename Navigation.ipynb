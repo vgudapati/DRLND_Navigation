{
 "cells": [
  {
   "cell_type": "markdown",
   "metadata": {},
   "source": [
    "# Navigation\n",
    "\n",
    "---\n",
    "\n",
    "In this notebook, you will learn how to use the Unity ML-Agents environment for the first project of the [Deep Reinforcement Learning Nanodegree](https://www.udacity.com/course/deep-reinforcement-learning-nanodegree--nd893).\n",
    "\n",
    "### 1. Start the Environment\n",
    "\n",
    "We begin by importing some necessary packages.  If the code cell below returns an error, please revisit the project instructions to double-check that you have installed [Unity ML-Agents](https://github.com/Unity-Technologies/ml-agents/blob/master/docs/Installation.md) and [NumPy](http://www.numpy.org/)."
   ]
  },
  {
   "cell_type": "code",
   "execution_count": 1,
   "metadata": {},
   "outputs": [],
   "source": [
    "import time\n",
    "from unityagents import UnityEnvironment\n",
    "import numpy as np\n",
    "import random\n",
    "import torch\n",
    "from collections import deque\n",
    "import matplotlib.pyplot as plt\n",
    "%matplotlib inline\n",
    "from dqn_agent import DQNAgent"
   ]
  },
  {
   "cell_type": "markdown",
   "metadata": {},
   "source": [
    "Next, we will start the environment!  **_Before running the code cell below_**, change the `file_name` parameter to match the location of the Unity environment that you downloaded.\n",
    "\n",
    "- **Mac**: `\"path/to/Banana.app\"`\n",
    "- **Windows** (x86): `\"path/to/Banana_Windows_x86/Banana.exe\"`\n",
    "- **Windows** (x86_64): `\"path/to/Banana_Windows_x86_64/Banana.exe\"`\n",
    "- **Linux** (x86): `\"path/to/Banana_Linux/Banana.x86\"`\n",
    "- **Linux** (x86_64): `\"path/to/Banana_Linux/Banana.x86_64\"`\n",
    "- **Linux** (x86, headless): `\"path/to/Banana_Linux_NoVis/Banana.x86\"`\n",
    "- **Linux** (x86_64, headless): `\"path/to/Banana_Linux_NoVis/Banana.x86_64\"`\n",
    "\n",
    "For instance, if you are using a Mac, then you downloaded `Banana.app`.  If this file is in the same folder as the notebook, then the line below should appear as follows:\n",
    "```\n",
    "env = UnityEnvironment(file_name=\"Banana.app\")\n",
    "```"
   ]
  },
  {
   "cell_type": "code",
   "execution_count": 2,
   "metadata": {},
   "outputs": [
    {
     "name": "stderr",
     "output_type": "stream",
     "text": [
      "INFO:unityagents:\n",
      "'Academy' started successfully!\n",
      "Unity Academy name: Academy\n",
      "        Number of Brains: 1\n",
      "        Number of External Brains : 1\n",
      "        Lesson number : 0\n",
      "        Reset Parameters :\n",
      "\t\t\n",
      "Unity brain name: BananaBrain\n",
      "        Number of Visual Observations (per agent): 0\n",
      "        Vector Observation space type: continuous\n",
      "        Vector Observation space size (per agent): 37\n",
      "        Number of stacked Vector Observation: 1\n",
      "        Vector Action space type: discrete\n",
      "        Vector Action space size (per agent): 4\n",
      "        Vector Action descriptions: , , , \n"
     ]
    }
   ],
   "source": [
    "env = UnityEnvironment(file_name=\"Banana_Linux/Banana.x86_64\")"
   ]
  },
  {
   "cell_type": "markdown",
   "metadata": {},
   "source": [
    "Environments contain **_brains_** which are responsible for deciding the actions of their associated agents. Here we check for the first brain available, and set it as the default brain we will be controlling from Python."
   ]
  },
  {
   "cell_type": "code",
   "execution_count": 3,
   "metadata": {},
   "outputs": [],
   "source": [
    "# get the default brain\n",
    "brain_name = env.brain_names[0]\n",
    "brain = env.brains[brain_name]"
   ]
  },
  {
   "cell_type": "markdown",
   "metadata": {},
   "source": [
    "### 2. Examine the State and Action Spaces\n",
    "\n",
    "The simulation contains a single agent that navigates a large environment.  At each time step, it has four actions at its disposal:\n",
    "- `0` - walk forward \n",
    "- `1` - walk backward\n",
    "- `2` - turn left\n",
    "- `3` - turn right\n",
    "\n",
    "The state space has `37` dimensions and contains the agent's velocity, along with ray-based perception of objects around agent's forward direction.  A reward of `+1` is provided for collecting a yellow banana, and a reward of `-1` is provided for collecting a blue banana. \n",
    "\n",
    "Run the code cell below to print some information about the environment."
   ]
  },
  {
   "cell_type": "code",
   "execution_count": 4,
   "metadata": {},
   "outputs": [
    {
     "name": "stdout",
     "output_type": "stream",
     "text": [
      "Number of agents: 1\n",
      "Number of actions: 4\n",
      "States look like: [1.         0.         0.         0.         0.84408134 0.\n",
      " 0.         1.         0.         0.0748472  0.         1.\n",
      " 0.         0.         0.25755    1.         0.         0.\n",
      " 0.         0.74177343 0.         1.         0.         0.\n",
      " 0.25854847 0.         0.         1.         0.         0.09355672\n",
      " 0.         1.         0.         0.         0.31969345 0.\n",
      " 0.        ]\n",
      "States have length: 37\n"
     ]
    }
   ],
   "source": [
    "# reset the environment\n",
    "env_info = env.reset(train_mode=True)[brain_name]\n",
    "\n",
    "# number of agents in the environment\n",
    "print('Number of agents:', len(env_info.agents))\n",
    "\n",
    "# number of actions\n",
    "action_size = brain.vector_action_space_size\n",
    "print('Number of actions:', action_size)\n",
    "\n",
    "# examine the state space \n",
    "state = env_info.vector_observations[0]\n",
    "print('States look like:', state)\n",
    "state_size = len(state)\n",
    "print('States have length:', state_size)"
   ]
  },
  {
   "cell_type": "markdown",
   "metadata": {},
   "source": [
    "### 3. Take Random Actions in the Environment\n",
    "\n",
    "In the next code cell, you will learn how to use the Python API to control the agent and receive feedback from the environment.\n",
    "\n",
    "Once this cell is executed, you will watch the agent's performance, if it selects an action (uniformly) at random with each time step.  A window should pop up that allows you to observe the agent, as it moves through the environment.  \n",
    "\n",
    "Of course, as part of the project, you'll have to change the code so that the agent is able to use its experience to gradually choose better actions when interacting with the environment!"
   ]
  },
  {
   "cell_type": "code",
   "execution_count": 5,
   "metadata": {},
   "outputs": [
    {
     "name": "stdout",
     "output_type": "stream",
     "text": [
      "Score: 0.0\n"
     ]
    }
   ],
   "source": [
    "env_info = env.reset(train_mode=False)[brain_name] # reset the environment\n",
    "state = env_info.vector_observations[0]            # get the current state\n",
    "score = 0                                          # initialize the score\n",
    "while True:\n",
    "    action = np.random.randint(action_size)        # select an action\n",
    "    env_info = env.step(action)[brain_name]        # send the action to the environment\n",
    "    next_state = env_info.vector_observations[0]   # get the next state\n",
    "    reward = env_info.rewards[0]                   # get the reward\n",
    "    done = env_info.local_done[0]                  # see if episode has finished\n",
    "    score += reward                                # update the score\n",
    "    state = next_state                             # roll over the state to next time step\n",
    "    if done:                                       # exit loop if episode finished\n",
    "        break\n",
    "    \n",
    "print(\"Score: {}\".format(score))"
   ]
  },
  {
   "cell_type": "markdown",
   "metadata": {},
   "source": [
    "### 4. It's Your Turn!\n",
    "\n",
    "Now it's your turn to train your own agent to solve the environment!  When training the environment, set `train_mode=True`, so that the line for resetting the environment looks like the following:\n",
    "```python\n",
    "env_info = env.reset(train_mode=True)[brain_name]\n",
    "```"
   ]
  },
  {
   "cell_type": "code",
   "execution_count": 6,
   "metadata": {},
   "outputs": [],
   "source": [
    "def dqnrunner(agent, \n",
    "              n_episodes=2000, \n",
    "              max_t=1000, \n",
    "              eps_start=1.0, \n",
    "              eps_end=0.01, \n",
    "              eps_decay=0.995, \n",
    "              train = True, \n",
    "              stable_episode_count = 100, \n",
    "              target_score = 13, \n",
    "              print_every = 10):\n",
    "    \"\"\"\n",
    "    Deep Q-Learning.\n",
    "    \n",
    "    Params\n",
    "    ======\n",
    "        n_episodes (int): maximum number of training episodes\n",
    "        max_t (int): maximum number of timesteps per episode\n",
    "        eps_start (float): starting value of epsilon, for epsilon-greedy action selection\n",
    "        eps_end (float): minimum value of epsilon\n",
    "        eps_decay (float): multiplicative factor (per episode) for decreasing epsilon\n",
    "        train(bool): whether to train or run\n",
    "        stable_episode_count (int): number episodes the scores should average to target_score\n",
    "        target_score(float): score at which we consider the environment is solved.\n",
    "        print_every(int): Number of eisodes we print the debug/log information.\n",
    "    \"\"\"\n",
    "    scores = []                        # list containing scores from each episode\n",
    "    scores_deque = deque(maxlen=stable_episode_count)  # last 100 scores\n",
    "    eps = eps_start                    # initialize epsilon\n",
    "    episodes_start = time.time()\n",
    "    for i_episode in range(1, n_episodes+1):\n",
    "        # reset the environment\n",
    "        env_info = env.reset(train_mode=True)[brain_name]\n",
    "        # examine the state space \n",
    "        state = env_info.vector_observations[0]\n",
    "        score = 0\n",
    "        \n",
    "        for t in range(max_t):\n",
    "            action = agent.act(state, eps if train else 0.0)\n",
    "            env_info = env.step(action)[brain_name]        # send the action to the environment\n",
    "            next_state = env_info.vector_observations[0]   # get the next state\n",
    "            reward = env_info.rewards[0]                   # get the reward\n",
    "            done = env_info.local_done[0]                  # see if episode has finished\n",
    "            if train:\n",
    "                agent.step(state, action, reward, next_state, done)\n",
    "            score += reward                                # update the score\n",
    "            state = next_state                             # roll over the state to next time step\n",
    "            if done:                                       # exit loop if episode finished\n",
    "                break\n",
    "        scores_deque.append(score)                        # save most recent score\n",
    "        scores.append(score)                               # save most recent score\n",
    "        eps = max(eps_end, eps_decay*eps)                  # decrease epsilon\n",
    "        \n",
    "        if np.mean(scores_deque) <= target_score:\n",
    "            if i_episode % print_every == 0:\n",
    "                episodes_end = time.time()\n",
    "                print('\\rEpisode {}\\tAverage score in the latest {} episodes: \\\n",
    "                      {}'.format(i_episode, i_episode if i_episode <= stable_episode_count \\\n",
    "                                 else stable_episode_count, np.mean(scores_deque)))\n",
    "                print('\\rLast {} episodes took {} seconds'.format(print_every, episodes_end - episodes_start))\n",
    "                episodes_start = time.time()\n",
    "        else:\n",
    "            print('\\rEpisode {}\\tAverage score in the latest {} episodes: \\\n",
    "                    {}'.format(i_episode, i_episode if i_episode <= stable_episode_count \\\n",
    "                               else stable_episode_count, np.mean(scores_deque)))\n",
    "            print('\\r\\rThe score average is over {} in the last {} episodes. \\\n",
    "                    Stop the training.'.format(target_score, stable_episode_count))\n",
    "            if train:\n",
    "                torch.save(agent.qnetwork_local.state_dict(), 'checkpoint.pth')\n",
    "                break\n",
    "    \n",
    "    return scores"
   ]
  },
  {
   "cell_type": "code",
   "execution_count": 7,
   "metadata": {},
   "outputs": [],
   "source": [
    "def plotGraphs(scorelist, cols = 2, rows = 4, size = (16, 9)):\n",
    "    '''\n",
    "    Display images in a grid\n",
    "    '''\n",
    "    \n",
    "    number_of_images = len(scorelist)\n",
    "    \n",
    "    if (rows == 1 and cols == 1):\n",
    "        fig = plt.figure()\n",
    "        ax = fig.add_subplot(111)\n",
    "        plt.plot(np.arange(len(scorelist[0])), scorelist[0])\n",
    "        plt.ylabel('Score')\n",
    "        plt.xlabel('Episode #')\n",
    "        plt.show()\n",
    "    else:\n",
    "        figure, axes = plt.subplots(rows, cols, figsize = size)\n",
    "        indices = range(number_of_images)\n",
    "        figure.subplots_adjust(hspace = 0.5)\n",
    "        print(axes)\n",
    "        axeslist = [item for item in axes]\n",
    "        for ax, index in zip(axeslist, indices):\n",
    "            np.delete(axeslist, 0, 0)\n",
    "            if index < number_of_images:\n",
    "                ax.plot(np.arange(1, len(scorelist[index])+1), scorelist[index])\n",
    "                ax.set_title(\"Batch_size: \" + str(batch_sizes[index]))\n",
    "                ax.set_xlabel(\"Episode #\")\n",
    "                ax.set_ylabel(\"Score\")"
   ]
  },
  {
   "cell_type": "code",
   "execution_count": 8,
   "metadata": {
    "scrolled": false
   },
   "outputs": [
    {
     "name": "stdout",
     "output_type": "stream",
     "text": [
      "Episode 40\tAverage score in the latest 40 episodes:                       0.3\n",
      "Last 40 episodes took 105.6323549747467 seconds\n",
      "Episode 80\tAverage score in the latest 80 episodes:                       0.2125\n",
      "Last 40 episodes took 102.84223318099976 seconds\n",
      "Episode 120\tAverage score in the latest 100 episodes:                       0.89\n",
      "Last 40 episodes took 100.3390760421753 seconds\n",
      "Episode 160\tAverage score in the latest 100 episodes:                       2.49\n",
      "Last 40 episodes took 103.4911208152771 seconds\n",
      "Episode 200\tAverage score in the latest 100 episodes:                       4.33\n",
      "Last 40 episodes took 102.68385338783264 seconds\n",
      "Episode 240\tAverage score in the latest 100 episodes:                       5.32\n",
      "Last 40 episodes took 102.34631204605103 seconds\n",
      "Episode 280\tAverage score in the latest 100 episodes:                       6.33\n",
      "Last 40 episodes took 104.10608053207397 seconds\n",
      "Episode 320\tAverage score in the latest 100 episodes:                       7.17\n",
      "Last 40 episodes took 103.77991533279419 seconds\n",
      "Episode 360\tAverage score in the latest 100 episodes:                       8.52\n",
      "Last 40 episodes took 104.85791397094727 seconds\n",
      "Episode 400\tAverage score in the latest 100 episodes:                       9.76\n",
      "Last 40 episodes took 103.63071513175964 seconds\n",
      "Episode 440\tAverage score in the latest 100 episodes:                       10.57\n",
      "Last 40 episodes took 101.93393325805664 seconds\n",
      "Episode 480\tAverage score in the latest 100 episodes:                       11.24\n",
      "Last 40 episodes took 102.29109477996826 seconds\n",
      "Episode 520\tAverage score in the latest 100 episodes:                       11.76\n",
      "Last 40 episodes took 100.30827689170837 seconds\n",
      "Episode 560\tAverage score in the latest 100 episodes:                       12.12\n",
      "Last 40 episodes took 102.04341149330139 seconds\n",
      "Episode 600\tAverage score in the latest 100 episodes:                       12.93\n",
      "Last 40 episodes took 102.41101312637329 seconds\n",
      "Episode 601\tAverage score in the latest 100 episodes:                     13.03\n",
      "The score average is over 13 in the last 100 episodes.                     Stop the training.\n",
      "Batch size:  32  took  1549.2362806797028  seconds.\n",
      "\n",
      "Elapsed  1549.237328529358  seconds.\n"
     ]
    }
   ],
   "source": [
    "# Final Run\n",
    "\n",
    "start = time.time()\n",
    "\n",
    "batch_sizes = [32]\n",
    "\n",
    "scorelist = []\n",
    "batch_times = []\n",
    "\n",
    "for batch_size in batch_sizes:\n",
    "    loopstart = time.time()\n",
    "    dqnagent = DQNAgent(state_size=state_size, action_size=action_size, seed=17, BATCH_SIZE=batch_size)\n",
    "    scores = dqnrunner(dqnagent, print_every=40, stable_episode_count=100, target_score=13)\n",
    "    scorelist.append(scores)\n",
    "    loopend = time.time()\n",
    "    print(\"\\rBatch size: \", batch_size, \" took \", loopend - loopstart, \" seconds.\\n\")\n",
    "    batch_times.append(loopend - loopstart)\n",
    "\n",
    "end = time.time()\n",
    "print('Elapsed ', end - start, ' seconds.')"
   ]
  },
  {
   "cell_type": "code",
   "execution_count": 9,
   "metadata": {},
   "outputs": [
    {
     "data": {
      "image/png": "[encoded data removed]",
      "text/plain": [
       "<Figure size 432x288 with 1 Axes>"
      ]
     },
     "metadata": {
      "needs_background": "light"
     },
     "output_type": "display_data"
    }
   ],
   "source": [
    "plotGraphs(scorelist, cols = 1, rows = 1)"
   ]
  },
  {
   "cell_type": "code",
   "execution_count": 10,
   "metadata": {},
   "outputs": [],
   "source": [
    "dqnagent.qnetwork_local.load_state_dict(torch.load('checkpoint.pth'))"
   ]
  },
  {
   "cell_type": "code",
   "execution_count": 11,
   "metadata": {},
   "outputs": [
    {
     "name": "stdout",
     "output_type": "stream",
     "text": [
      "Episode 1\tAverage score in the latest 1 episodes:                     17.0\n",
      "The score average is over 13 in the last 100 episodes.                     Stop the training.\n",
      "Episode 2\tAverage score in the latest 2 episodes:                     15.5\n",
      "The score average is over 13 in the last 100 episodes.                     Stop the training.\n",
      "Episode 3\tAverage score in the latest 3 episodes:                     13.666666666666666\n",
      "The score average is over 13 in the last 100 episodes.                     Stop the training.\n",
      "Episode 4\tAverage score in the latest 4 episodes:                     14.25\n",
      "The score average is over 13 in the last 100 episodes.                     Stop the training.\n",
      "Episode 5\tAverage score in the latest 5 episodes:                     14.4\n",
      "The score average is over 13 in the last 100 episodes.                     Stop the training.\n",
      "Episode 6\tAverage score in the latest 6 episodes:                     14.166666666666666\n",
      "The score average is over 13 in the last 100 episodes.                     Stop the training.\n",
      "Episode 7\tAverage score in the latest 7 episodes:                     14.571428571428571\n",
      "The score average is over 13 in the last 100 episodes.                     Stop the training.\n",
      "Episode 8\tAverage score in the latest 8 episodes:                     14.5\n",
      "The score average is over 13 in the last 100 episodes.                     Stop the training.\n",
      "Episode 9\tAverage score in the latest 9 episodes:                     14.666666666666666\n",
      "The score average is over 13 in the last 100 episodes.                     Stop the training.\n",
      "Episode 10\tAverage score in the latest 10 episodes:                     15.3\n",
      "The score average is over 13 in the last 100 episodes.                     Stop the training.\n",
      "Episode 11\tAverage score in the latest 11 episodes:                     15.818181818181818\n",
      "The score average is over 13 in the last 100 episodes.                     Stop the training.\n",
      "Episode 12\tAverage score in the latest 12 episodes:                     15.833333333333334\n",
      "The score average is over 13 in the last 100 episodes.                     Stop the training.\n",
      "Episode 13\tAverage score in the latest 13 episodes:                     15.923076923076923\n",
      "The score average is over 13 in the last 100 episodes.                     Stop the training.\n",
      "Episode 14\tAverage score in the latest 14 episodes:                     15.785714285714286\n",
      "The score average is over 13 in the last 100 episodes.                     Stop the training.\n",
      "Episode 15\tAverage score in the latest 15 episodes:                     15.866666666666667\n",
      "The score average is over 13 in the last 100 episodes.                     Stop the training.\n",
      "Episode 16\tAverage score in the latest 16 episodes:                     16.1875\n",
      "The score average is over 13 in the last 100 episodes.                     Stop the training.\n",
      "Episode 17\tAverage score in the latest 17 episodes:                     16.294117647058822\n",
      "The score average is over 13 in the last 100 episodes.                     Stop the training.\n",
      "Episode 18\tAverage score in the latest 18 episodes:                     16.11111111111111\n",
      "The score average is over 13 in the last 100 episodes.                     Stop the training.\n",
      "Episode 19\tAverage score in the latest 19 episodes:                     16.31578947368421\n",
      "The score average is over 13 in the last 100 episodes.                     Stop the training.\n",
      "Episode 20\tAverage score in the latest 20 episodes:                     16.3\n",
      "The score average is over 13 in the last 100 episodes.                     Stop the training.\n"
     ]
    }
   ],
   "source": [
    "scores = dqnrunner(dqnagent, n_episodes=20, train=False)"
   ]
  },
  {
   "cell_type": "code",
   "execution_count": 12,
   "metadata": {},
   "outputs": [
    {
     "name": "stdout",
     "output_type": "stream",
     "text": [
      "Score: 11.0\n"
     ]
    }
   ],
   "source": [
    "env_info = env.reset(train_mode=False)[brain_name] # reset the environment\n",
    "state = env_info.vector_observations[0]            # get the current state\n",
    "score = 0                                          # initialize the score\n",
    "while True:\n",
    "    action = dqnagent.act(state)                      # select an action\n",
    "    env_info = env.step(action)[brain_name]        # send the action to the environment\n",
    "    next_state = env_info.vector_observations[0]   # get the next state\n",
    "    reward = env_info.rewards[0]                   # get the reward\n",
    "    done = env_info.local_done[0]                  # see if episode has finished\n",
    "    score += reward                                # update the score\n",
    "    state = next_state                             # roll over the state to next time step\n",
    "    if done:                                       # exit loop if episode finished\n",
    "        break\n",
    "    \n",
    "print(\"Score: {}\".format(score))"
   ]
  },
  {
   "cell_type": "markdown",
   "metadata": {},
   "source": [
    "When finished, you can close the environment."
   ]
  },
  {
   "cell_type": "code",
   "execution_count": 13,
   "metadata": {},
   "outputs": [],
   "source": [
    "env.close()"
   ]
  },
  {
   "cell_type": "code",
   "execution_count": null,
   "metadata": {},
   "outputs": [],
   "source": []
  }
 ],
 "metadata": {
  "kernelspec": {
   "display_name": "drlnd",
   "language": "python",
   "name": "drlnd"
  },
  "language_info": {
   "codemirror_mode": {
    "name": "ipython",
    "version": 3
   },
   "file_extension": ".py",
   "mimetype": "text/x-python",
   "name": "python",
   "nbconvert_exporter": "python",
   "pygments_lexer": "ipython3",
   "version": "3.6.7"
  }
 },
 "nbformat": 4,
 "nbformat_minor": 2
}
